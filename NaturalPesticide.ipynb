{
 "cells": [
  {
   "cell_type": "code",
   "execution_count": null,
   "id": "3b898ba8",
   "metadata": {},
   "outputs": [],
   "source": [
    "import json"
   ]
  },
  {
   "cell_type": "code",
   "execution_count": null,
   "id": "6b1ffc3a",
   "metadata": {},
   "outputs": [],
   "source": [
    "def generate_matching_recipes(search_term, recipes):\n",
    "    matching_recipes = []\n",
    "    for recipe in recipes:\n",
    "        search_list = recipe.get(\"ingredients\", [])\n",
    "        if any(search_term.lower() in item.lower() for item in search_list):\n",
    "            matching_recipes.append(recipe)\n"
   ]
  },
  {
   "cell_type": "code",
   "execution_count": null,
   "id": "fc20a4c7",
   "metadata": {},
   "outputs": [],
   "source": [
    "def main(file_path):\n",
    "    with open(file_path, 'r', encoding='utf-8') as file:\n",
    "        data = json.load(file)\n",
    "\n",
    "    search_term = input(\"Enter the ingredient you want to search for: \")\n",
    "\n",
    "    matching_recipes = generate_matching_recipes(search_term, data)\n",
    "\n",
    "    if not matching_recipes:\n",
    "        print(f\"No recipes found that include '{search_term}' in the ingredients.\")\n",
    "    else:\n",
    "        for i, recipe in enumerate(matching_recipes, 1):\n",
    "            print(f\"Recipe {i}:\")\n",
    "            print(\"Recipe Name:\", recipe.get(\"recipe_name\", \"N/A\"))\n",
    "            print(\"Ingredients:\", \", \".join(recipe.get(\"ingredients\", [])))\n",
    "            print(\"Instructions:\")\n",
    "            for step in recipe.get(\"instructions\", []):\n",
    "                print(step)\n",
    "            print()\n",
    "\n",
    "            # Ask the user if they want to see the next recipe\n",
    "            if i < len(matching_recipes):\n",
    "                next_recipe = input(\"Do you want to see the next recipe? (yes/no): \")\n",
    "                if next_recipe.lower() != \"yes\":\n",
    "                    break\n"
   ]
  },
  {
   "cell_type": "code",
   "execution_count": null,
   "id": "a6b1ae1f",
   "metadata": {},
   "outputs": [],
   "source": [
    "if _name_ == \"_main_\":\n",
    "    file_path = \"C:/Users/ASUS/OneDrive/Desktop/prophoto/natural pesticide recipe dataset/nprecipetrain.json\"\n",
    "    main(file_path)"
   ]
  }
 ],
 "metadata": {
  "kernelspec": {
   "display_name": "Python 3 (ipykernel)",
   "language": "python",
   "name": "python3"
  },
  "language_info": {
   "codemirror_mode": {
    "name": "ipython",
    "version": 3
   },
   "file_extension": ".py",
   "mimetype": "text/x-python",
   "name": "python",
   "nbconvert_exporter": "python",
   "pygments_lexer": "ipython3",
   "version": "3.11.3"
  }
 },
 "nbformat": 4,
 "nbformat_minor": 5
}
