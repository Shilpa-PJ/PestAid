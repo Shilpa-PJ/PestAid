{
  "nbformat": 4,
  "nbformat_minor": 0,
  "metadata": {
    "colab": {
      "provenance": [],
      "gpuType": "T4",
      "mount_file_id": "1mJNg883vt5brttWaJ-16x2srgzNqeGyi",
      "authorship_tag": "ABX9TyPlS9vQZMDKumBV8fwOXaR+",
      "include_colab_link": true
    },
    "kernelspec": {
      "name": "python3",
      "display_name": "Python 3"
    },
    "language_info": {
      "name": "python"
    },
    "accelerator": "GPU"
  },
  "cells": [
    {
      "cell_type": "markdown",
      "metadata": {
        "id": "view-in-github",
        "colab_type": "text"
      },
      "source": [
        "<a href=\"https://colab.research.google.com/github/Shilpa-PJ/PestAid/blob/main/Pest.ipynb\" target=\"_parent\"><img src=\"https://colab.research.google.com/assets/colab-badge.svg\" alt=\"Open In Colab\"/></a>"
      ]
    },
    {
      "cell_type": "code",
      "execution_count": null,
      "metadata": {
        "id": "a7lLggjQsP8r"
      },
      "outputs": [],
      "source": [
        "import tensorflow as tf\n",
        "from tensorflow.keras import layers, models\n",
        "from tensorflow.keras.preprocessing.image import ImageDataGenerator"
      ]
    },
    {
      "cell_type": "code",
      "source": [
        "# Set the path to your dataset directory\n",
        "train_data_dir = '/content/drive/MyDrive/train1'"
      ],
      "metadata": {
        "id": "CTVS7Je6s27k"
      },
      "execution_count": null,
      "outputs": []
    },
    {
      "cell_type": "code",
      "source": [
        "# Specify the image size and batch size\n",
        "img_size = (224, 224)\n",
        "batch_size = 32"
      ],
      "metadata": {
        "id": "0oaUZ6j3s3jd"
      },
      "execution_count": null,
      "outputs": []
    },
    {
      "cell_type": "code",
      "source": [
        "# Create data generators for training\n",
        "train_datagen = ImageDataGenerator(rescale=1./255, validation_split=0.2)"
      ],
      "metadata": {
        "id": "NFaseVUgs4IX"
      },
      "execution_count": null,
      "outputs": []
    },
    {
      "cell_type": "code",
      "source": [
        "train_generator = train_datagen.flow_from_directory(\n",
        "    train_data_dir,\n",
        "    target_size=img_size,\n",
        "    batch_size=batch_size,\n",
        "    class_mode='categorical',\n",
        "    subset='training'\n",
        ")"
      ],
      "metadata": {
        "colab": {
          "base_uri": "https://localhost:8080/"
        },
        "id": "4_ABnEL2s47K",
        "outputId": "09c5cd8e-3ba8-48ad-a14b-0600cd531391"
      },
      "execution_count": null,
      "outputs": [
        {
          "output_type": "stream",
          "name": "stdout",
          "text": [
            "Found 1854 images belonging to 8 classes.\n"
          ]
        }
      ]
    },
    {
      "cell_type": "code",
      "source": [
        "validation_generator = train_datagen.flow_from_directory(\n",
        "    train_data_dir,\n",
        "    target_size=img_size,\n",
        "    batch_size=batch_size,\n",
        "    class_mode='categorical',\n",
        "    subset='validation'\n",
        ")\n"
      ],
      "metadata": {
        "colab": {
          "base_uri": "https://localhost:8080/"
        },
        "id": "ALfA-nfftQu_",
        "outputId": "096db349-d599-4eed-96df-5f2b8b1e5145"
      },
      "execution_count": null,
      "outputs": [
        {
          "output_type": "stream",
          "name": "stdout",
          "text": [
            "Found 459 images belonging to 8 classes.\n"
          ]
        }
      ]
    },
    {
      "cell_type": "code",
      "source": [
        "# Define the model\n",
        "model = models.Sequential([\n",
        "    layers.Conv2D(32, (3, 3), activation='relu', input_shape=(224, 224, 3)),\n",
        "    layers.MaxPooling2D((2, 2)),\n",
        "    layers.Conv2D(64, (3, 3), activation='relu'),\n",
        "    layers.MaxPooling2D((2, 2)),\n",
        "    layers.Conv2D(128, (3, 3), activation='relu'),\n",
        "    layers.MaxPooling2D((2, 2)),\n",
        "    layers.Flatten(),\n",
        "    layers.Dense(128, activation='relu'),\n",
        "    layers.Dense(8, activation='softmax')  # 8 classes for eight pests\n",
        "])\n"
      ],
      "metadata": {
        "id": "w6tjYUFStVnG"
      },
      "execution_count": null,
      "outputs": []
    },
    {
      "cell_type": "code",
      "source": [
        "# Compile the model\n",
        "model.compile(optimizer='adam', loss='categorical_crossentropy', metrics=['accuracy'])\n"
      ],
      "metadata": {
        "id": "EPI5vKi-tWlm"
      },
      "execution_count": null,
      "outputs": []
    },
    {
      "cell_type": "code",
      "source": [
        "# Train the model\n",
        "history = model.fit(train_generator, epochs=10, validation_data=validation_generator)"
      ],
      "metadata": {
        "colab": {
          "base_uri": "https://localhost:8080/"
        },
        "id": "MkmH3ivKtXI3",
        "outputId": "069819cb-2cb7-4837-fb2b-ff6d2ed33e94"
      },
      "execution_count": null,
      "outputs": [
        {
          "output_type": "stream",
          "name": "stdout",
          "text": [
            "Epoch 1/10\n",
            "58/58 [==============================] - 1264s 22s/step - loss: 1.8833 - accuracy: 0.3198 - val_loss: 1.6716 - val_accuracy: 0.4336\n",
            "Epoch 2/10\n",
            "58/58 [==============================] - 9s 157ms/step - loss: 0.6913 - accuracy: 0.7843 - val_loss: 1.5455 - val_accuracy: 0.5468\n",
            "Epoch 3/10\n",
            "58/58 [==============================] - 9s 153ms/step - loss: 0.1237 - accuracy: 0.9746 - val_loss: 1.5660 - val_accuracy: 0.6275\n",
            "Epoch 4/10\n",
            "58/58 [==============================] - 8s 145ms/step - loss: 0.0966 - accuracy: 0.9811 - val_loss: 1.9160 - val_accuracy: 0.5861\n",
            "Epoch 5/10\n",
            "58/58 [==============================] - 9s 156ms/step - loss: 0.0475 - accuracy: 0.9935 - val_loss: 1.6054 - val_accuracy: 0.6231\n",
            "Epoch 6/10\n",
            "58/58 [==============================] - 8s 137ms/step - loss: 0.0452 - accuracy: 0.9935 - val_loss: 1.6617 - val_accuracy: 0.6492\n",
            "Epoch 7/10\n",
            "58/58 [==============================] - 9s 161ms/step - loss: 0.0388 - accuracy: 0.9946 - val_loss: 1.4980 - val_accuracy: 0.6296\n",
            "Epoch 8/10\n",
            "58/58 [==============================] - 9s 156ms/step - loss: 0.0292 - accuracy: 0.9941 - val_loss: 1.5906 - val_accuracy: 0.6318\n",
            "Epoch 9/10\n",
            "58/58 [==============================] - 8s 137ms/step - loss: 0.0226 - accuracy: 0.9951 - val_loss: 1.6162 - val_accuracy: 0.6057\n",
            "Epoch 10/10\n",
            "58/58 [==============================] - 9s 163ms/step - loss: 0.0334 - accuracy: 0.9935 - val_loss: 1.3933 - val_accuracy: 0.6013\n"
          ]
        }
      ]
    },
    {
      "cell_type": "code",
      "source": [
        "# Save the trained model\n",
        "model.save('pest_classifier_model.h5')"
      ],
      "metadata": {
        "colab": {
          "base_uri": "https://localhost:8080/"
        },
        "id": "Uln8DpO7toAq",
        "outputId": "ed1d6b71-b0b9-4181-8a67-b05778620c4f"
      },
      "execution_count": null,
      "outputs": [
        {
          "output_type": "stream",
          "name": "stderr",
          "text": [
            "/usr/local/lib/python3.10/dist-packages/keras/src/engine/training.py:3079: UserWarning: You are saving your model as an HDF5 file via `model.save()`. This file format is considered legacy. We recommend using instead the native Keras format, e.g. `model.save('my_model.keras')`.\n",
            "  saving_api.save_model(\n"
          ]
        }
      ]
    },
    {
      "cell_type": "code",
      "source": [
        "import numpy as np\n",
        "from tensorflow.keras.preprocessing import image\n",
        "from tensorflow.keras.models import load_model\n"
      ],
      "metadata": {
        "id": "uvPpjJ4Iz0Vc"
      },
      "execution_count": null,
      "outputs": []
    },
    {
      "cell_type": "code",
      "source": [
        "# Load the trained model\n",
        "model = load_model('pest_classifier_model.h5')"
      ],
      "metadata": {
        "id": "nJlYNpI40mdi"
      },
      "execution_count": null,
      "outputs": []
    },
    {
      "cell_type": "code",
      "source": [
        "# Function to preprocess an image for prediction\n",
        "def preprocess_image(img_path):\n",
        "    img = image.load_img(img_path, target_size=(224, 224))\n",
        "    img_array = image.img_to_array(img)\n",
        "    img_array = np.expand_dims(img_array, axis=0)\n",
        "    img_array /= 255.0  # Normalize the pixel values\n",
        "    return img_array"
      ],
      "metadata": {
        "id": "X3mYlvRx0nKf"
      },
      "execution_count": null,
      "outputs": []
    },
    {
      "cell_type": "code",
      "source": [
        "# Function to make predictions\n",
        "def predict_image_class(img_path):\n",
        "    img_array = preprocess_image(img_path)\n",
        "    predictions = model.predict(img_array)\n",
        "    predicted_class = np.argmax(predictions)\n",
        "    return predicted_class\n"
      ],
      "metadata": {
        "id": "NawIqrkq0nz4"
      },
      "execution_count": null,
      "outputs": []
    },
    {
      "cell_type": "code",
      "source": [
        "# Test the model on a new image\n",
        "test_image_path = '/content/jpg_3.jpg'  # Replace with the path to your test image\n",
        "predicted_class = predict_image_class(test_image_path)\n"
      ],
      "metadata": {
        "colab": {
          "base_uri": "https://localhost:8080/"
        },
        "id": "bhuGlKFj0ouR",
        "outputId": "c8a7b6d3-bd77-44d2-dd81-f89b10b1898d"
      },
      "execution_count": null,
      "outputs": [
        {
          "output_type": "stream",
          "name": "stdout",
          "text": [
            "1/1 [==============================] - 0s 28ms/step\n"
          ]
        }
      ]
    },
    {
      "cell_type": "code",
      "source": [
        "# Print the predicted class\n",
        "print(f'The predicted class index is: {predicted_class}')\n",
        "if predicted_class==0:\n",
        "  print(\"Pest Name = Aphids\")\n",
        "elif predicted_class==1:\n",
        "  print(\"Pest Name = Armyworm\")\n",
        "elif predicted_class==2:\n",
        "  print(\"Pest Name = Beetle\")\n",
        "elif predicted_class==3:\n",
        "  print(\"Pest Name = Bollworm\")\n",
        "elif predicted_class==4:\n",
        "  print(\"Pest Name = Grasshopper\")\n",
        "elif predicted_class==5:\n",
        "  print(\"Pest Name = Mites\")\n",
        "elif predicted_class==6:\n",
        "  print(\"Pest Name = Mosquito\")\n",
        "elif predicted_class==7:\n",
        "  print(\"Pest Name = Sawfly\")\n",
        "else:\n",
        "  print(\"Pest can not be detected\")"
      ],
      "metadata": {
        "colab": {
          "base_uri": "https://localhost:8080/"
        },
        "id": "CrVeh5RO1_Ue",
        "outputId": "c458ba1d-0b1c-4f62-b4a2-9081b9536d5d"
      },
      "execution_count": null,
      "outputs": [
        {
          "output_type": "stream",
          "name": "stdout",
          "text": [
            "The predicted class index is: 2\n",
            "Pest Name = Beetle\n"
          ]
        }
      ]
    },
    {
      "cell_type": "code",
      "source": [
        "import pandas as pd"
      ],
      "metadata": {
        "id": "3yJu3FylACCs"
      },
      "execution_count": null,
      "outputs": []
    },
    {
      "cell_type": "code",
      "source": [
        "\n",
        "\n",
        "# Load the Excel dataset\n",
        "excel_path = '/content/drive/MyDrive/chem pesticide.xlsx'\n",
        "df = pd.read_excel(excel_path)\n",
        "\n",
        "\n"
      ],
      "metadata": {
        "id": "1yhFYAjAAZir"
      },
      "execution_count": null,
      "outputs": []
    },
    {
      "cell_type": "code",
      "source": [
        "\n",
        "if predicted_class==0:\n",
        "  predicted_class_name = 'Aphids'\n",
        "elif predicted_class==1:\n",
        "  predicted_class_name = 'Army Worm'\n",
        "elif predicted_class==2:\n",
        "  predicted_class_name = 'Beetle'\n",
        "elif predicted_class==3:\n",
        "  predicted_class_name = 'Boll Worm'\n",
        "elif predicted_class==4:\n",
        "  predicted_class_name = 'Grasshopper'\n",
        "elif predicted_class==5:\n",
        "  predicted_class_name = 'Mites'\n",
        "elif predicted_class==6:\n",
        "  predicted_class_name = 'Mosquitos'\n",
        "else:\n",
        "  predicted_class_name = 'Saw Fly'\n",
        "\n"
      ],
      "metadata": {
        "id": "Q908-1PtAdnN"
      },
      "execution_count": null,
      "outputs": []
    },
    {
      "cell_type": "code",
      "source": [
        "\n",
        "predicted_class_column = 'Pest_name'\n",
        "\n",
        "predicted_class_value = predicted_class_name\n",
        "filtered_df = df[df[predicted_class_column] == predicted_class_value]\n",
        "\n",
        "print(filtered_df)"
      ],
      "metadata": {
        "id": "lz3Vf6jVAeKH",
        "colab": {
          "base_uri": "https://localhost:8080/"
        },
        "outputId": "8c04441d-43f9-4806-a1be-490769161907"
      },
      "execution_count": null,
      "outputs": [
        {
          "output_type": "stream",
          "name": "stdout",
          "text": [
            "   Pest_name Pestcide_name                                  Online_store_link\n",
            "22    Beetle    Pyrethroid  https://agribegri.com/products/buy-insecticide...\n"
          ]
        }
      ]
    },
    {
      "cell_type": "code",
      "source": [],
      "metadata": {
        "id": "WTPcRGmexCXA"
      },
      "execution_count": null,
      "outputs": []
    },
    {
      "cell_type": "code",
      "source": [
        "# Print the DataFrame containing columns corresponding to the predicted class\n",
        "print(result_df)"
      ],
      "metadata": {
        "id": "wDkixXr0xFli"
      },
      "execution_count": null,
      "outputs": []
    }
  ]
}